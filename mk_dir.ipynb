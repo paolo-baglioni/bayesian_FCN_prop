{
 "cells": [
  {
   "cell_type": "code",
   "execution_count": 1,
   "metadata": {},
   "outputs": [],
   "source": [
    "import os\n",
    "from os import path\n",
    "import json\n",
    "import random\n",
    "import numpy as np\n",
    "from matplotlib import pyplot as plt"
   ]
  },
  {
   "cell_type": "code",
   "execution_count": 31,
   "metadata": {},
   "outputs": [],
   "source": [
    "sqrt_N0 = 32\n",
    "N0      = int(sqrt_N0*sqrt_N0)\n",
    "N1 \t\t= 500\n",
    "P \t\t= 1000\n",
    "Ptest \t= 1000\n",
    "T \t\t= 0.1\n",
    "epsilon = 0.0001\n",
    "bias \t= 0\n",
    "NUM_MIS = 5000000\n",
    "sv_step = 10\n",
    "BUFF_S \t= 1000\n",
    "lambda0 = 1.0\n",
    "lambda1 = 1.0\n",
    "dataset = \"cifar10\"\n",
    "noise   = 0.0"
   ]
  },
  {
   "cell_type": "code",
   "execution_count": 32,
   "metadata": {},
   "outputs": [
    {
     "name": "stdout",
     "output_type": "stream",
     "text": [
      "creo la directory\n"
     ]
    }
   ],
   "source": [
    "if (bias == 0):\n",
    "    bias_string = \"False\"\n",
    "else:\n",
    "    bias_string = \"True\"\n",
    "\n",
    "\n",
    "    \n",
    "path = \"./data/\" + dataset + \"_\" + str(sqrt_N0) + \"_\" + str(N1) + \"_\" + str(P) + \"_\" + str(Ptest) + \"_\" + str(T) + \"_\" + str(epsilon) + \"_\" + bias_string  + \"_\" + str(lambda0) + \"_\" + str(lambda1) + \"_\" + str(noise)\n",
    "\n",
    "if os.path.isdir(path):\n",
    "    print(\"directory esistente, non faccio nulla\")\n",
    "else:\n",
    "    print(\"creo la directory\")\n",
    "    os.mkdir(path)"
   ]
  },
  {
   "cell_type": "code",
   "execution_count": 33,
   "metadata": {},
   "outputs": [],
   "source": [
    "parameter_dictionary = {\n",
    "    \"sqrt_N0\" \t: \tsqrt_N0\t\t\t,\n",
    "\t\"N0\"\t\t: \tN0\t\t\t\t,\n",
    "\t\"N1\"\t\t:\tN1\t\t\t\t,\n",
    "\t\"P\" \t\t:\tP\t\t\t\t,\n",
    "\t\"Ptest\"\t\t:\tPtest\t\t\t,\n",
    "\t\"T\"\t\t\t:\tT\t\t\t\t,\n",
    "\t\"epsilon\"\t:\tepsilon\t\t\t,\n",
    "\t\"bias\"\t\t:\tbias\t\t\t,\n",
    "\t\"NUM_MIS\"\t:\tNUM_MIS\t\t\t,\n",
    "\t\"sv_step\"\t:\tsv_step\t\t\t,\n",
    "\t\"BUFF_S\"\t:\tBUFF_S\t\t\t,\n",
    "    \"lambda0\"\t:\tlambda0\t\t\t,\n",
    "    \"lambda1\"\t:\tlambda1\t\t\t,\n",
    "    \"dataset\"\t: \tdataset\t\t\t,\n",
    "    \"noise\"\t\t:\tnoise\n",
    "}\n",
    "\n",
    "with open(path + \"/parameter.json\", \"w\") as fp:\n",
    "    json.dump(parameter_dictionary, fp, indent=4)"
   ]
  },
  {
   "cell_type": "code",
   "execution_count": 34,
   "metadata": {},
   "outputs": [],
   "source": [
    "if dataset==\"cifar10\":\n",
    "    code_name = \"model2\"\n",
    "else:\n",
    "    code_name = \"model1\"\n",
    "\n",
    "\n",
    "string = \"./sbatch/starter_\" + dataset + \"_\" + str(sqrt_N0) + \"_\" + str(N1) + \"_\" + str(P) + \"_\" + str(Ptest) + \"_\" + str(T) + \"_\" + str(epsilon) + \"_\" + bias_string  + \"_\" + str(lambda0) + \"_\" + str(lambda1) + \"_\" + str(noise) + \".bash\"\n",
    "\n",
    "string_for_title = \"#SBATCH --job-name=nn_gpu_\" + code_name + \"_\" + str(sqrt_N0) + \"_\" + str(N1) + \"_\" + str(P) + \"_\" + str(Ptest) + \"_\" + str(T) + \"_\" + str(epsilon) + \"_\" + bias_string  + \"_\" + str(lambda0) + \"_\" + str(lambda1) + \"_\" + str(noise) + \" \\n\\n\"\n",
    "\n",
    "with open(string, 'w') as f:\n",
    "\tf.write('%s' % \"#!/bin/bash \\n\\n\")\n",
    "\tf.write('%s' % \"#SBATCH --partition=gpu \\n\")\n",
    "\tf.write('%s' % \"#SBATCH --qos=gpu \\n\")\n",
    "\tf.write('%s' % \"#SBATCH --gres=gpu:a100_80g:1 \\n\")\n",
    "\tf.write('%s' % \"#SBATCH --mem=60G \\n\")\n",
    "\tf.write('%s' % \"#SBATCH --time=0-24:00:00 \\n\")\n",
    "\tf.write('%s' % \"#SBATCH --output=./report/%x.o%j \\n\")\n",
    "\tf.write('%s' % \"#SBATCH --mail-type=BEGIN,END \\n\")\n",
    "\tf.write('%s' % \"#SBATCH --mail-user=paolo.baglioni@unipr.it \\n\\n\")\n",
    "\n",
    "\tf.write('%s' % string_for_title)\n",
    "\n",
    "\tf.write('%s' % \"module load gnu8/8.3.0 \\n\")\n",
    "\tf.write('%s' % \"module load python/3.9.10 \\n\")\n",
    "\tf.write('%s' % \"module load cuda/11.5.2 \\n\")\n",
    "\tf.write('%s' % \"module load cudnn/8.3.3 \\n\\n\")\n",
    "\n",
    "\tf.write('%s' % \"cd /hpc/home/paolo.baglioni/nn_ve \\n\")\n",
    "\tf.write('%s' % \"source bin/activate \\n\")\n",
    "\tf.write('%s' % \"cd /hpc/home/paolo.baglioni/bayesian_FCN_prop/ \\n\\n\")\n",
    "\n",
    "\tstring = \"python3 main.py \" + \"'/hpc/home/paolo.baglioni/bayesian_FCN_prop/data/\" + dataset + \"_\" + str(sqrt_N0) + \"_\" + str(N1) + \"_\" + str(P) + \"_\" + str(Ptest) + \"_\" + str(T) + \"_\" + str(epsilon) + \"_\" + bias_string  + \"_\" + str(lambda0) + \"_\" + str(lambda1) + \"_\" + str(noise) + \"/parameter.json' > '/hpc/home/paolo.baglioni/bayesian_FCN_prop/data/\" + dataset + \"_\" + str(sqrt_N0) + \"_\" + str(N1) + \"_\" + str(P) + \"_\" + str(Ptest) + \"_\" + str(T) + \"_\" + str(epsilon) + \"_\" + bias_string  + \"_\" + str(lambda0) + \"_\" + str(lambda1) + \"_\" + str(noise) + \"/std_output.txt' \\n\\n\"\n",
    "\tf.write('%s' % string)"
   ]
  },
  {
   "cell_type": "code",
   "execution_count": null,
   "metadata": {},
   "outputs": [],
   "source": []
  }
 ],
 "metadata": {
  "kernelspec": {
   "display_name": "Python 3 (ipykernel)",
   "language": "python",
   "name": "python3"
  },
  "language_info": {
   "codemirror_mode": {
    "name": "ipython",
    "version": 3
   },
   "file_extension": ".py",
   "mimetype": "text/x-python",
   "name": "python",
   "nbconvert_exporter": "python",
   "pygments_lexer": "ipython3",
   "version": "3.9.12"
  }
 },
 "nbformat": 4,
 "nbformat_minor": 2
}
