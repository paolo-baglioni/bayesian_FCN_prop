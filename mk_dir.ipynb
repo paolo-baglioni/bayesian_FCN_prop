{
 "cells": [
  {
   "cell_type": "code",
   "execution_count": 1,
   "metadata": {},
   "outputs": [],
   "source": [
    "import os\n",
    "from os import path\n",
    "import json\n",
    "import random"
   ]
  },
  {
   "cell_type": "code",
   "execution_count": 5,
   "metadata": {},
   "outputs": [],
   "source": [
    "sqrt_N0\t= 28\n",
    "N0 \t\t= 784\n",
    "N1 \t\t= 800\n",
    "P \t\t= 1600\n",
    "Ptest \t= 1000\n",
    "T \t\t= 0.01\n",
    "epsilon = 0.001\n",
    "bias \t= 0\n",
    "NUM_MIS = 5000000\n",
    "sv_step = 10\n",
    "BUFF_S \t= 1000\n",
    "lambda0 = 1.0\n",
    "lambda1 = 1.0"
   ]
  },
  {
   "cell_type": "code",
   "execution_count": 6,
   "metadata": {},
   "outputs": [
    {
     "name": "stdout",
     "output_type": "stream",
     "text": [
      "directory esistente, non faccio nulla\n"
     ]
    }
   ],
   "source": [
    "if (bias == 0):\n",
    "    bias_string = \"False\"\n",
    "else:\n",
    "    bias_string = \"True\"\n",
    "    \n",
    "path = \"./data/\" + \"mnist_\" + str(N1) + \"_\" + str(P) + \"_\" + str(Ptest) + \"_\" + str(T) + \"_\" + str(epsilon) + \"_\" + bias_string  + \"_\" + str(lambda0) + \"_\" + str(lambda1)\n",
    "\n",
    "if os.path.isdir(path):\n",
    "    print(\"directory esistente, non faccio nulla\")\n",
    "else:\n",
    "    print(\"creo la directory\")\n",
    "    os.mkdir(path)"
   ]
  },
  {
   "cell_type": "code",
   "execution_count": 7,
   "metadata": {},
   "outputs": [],
   "source": [
    "parameter_dictionary = {\n",
    "    \"sqrt_N0\" \t: \tsqrt_N0\t\t\t,\n",
    "\t\"N0\"\t\t: \tN0\t\t\t\t,\n",
    "\t\"N1\"\t\t:\tN1\t\t\t\t,\n",
    "\t\"P\" \t\t:\tP\t\t\t\t,\n",
    "\t\"Ptest\"\t\t:\tPtest\t\t\t,\n",
    "\t\"T\"\t\t\t:\tT\t\t\t\t,\n",
    "\t\"epsilon\"\t:\tepsilon\t\t\t,\n",
    "\t\"bias\"\t\t:\tbias\t\t\t,\n",
    "\t\"NUM_MIS\"\t:\tNUM_MIS\t\t\t,\n",
    "\t\"sv_step\"\t:\tsv_step\t\t\t,\n",
    "\t\"BUFF_S\"\t:\tBUFF_S\t\t\t,\n",
    "    \"lambda0\"\t:\tlambda0\t\t\t,\n",
    "    \"lambda1\"\t:\tlambda1\n",
    "}\n",
    "\n",
    "with open(path + \"/parameter.json\", \"w\") as fp:\n",
    "    json.dump(parameter_dictionary, fp, indent=4)"
   ]
  },
  {
   "cell_type": "code",
   "execution_count": 198,
   "metadata": {},
   "outputs": [],
   "source": [
    "string = \"./sbatch/starter_\" + str(N1) + \"_\" + str(P) + \"_\" + str(Ptest) + \"_\" + str(T) + \"_\" + str(epsilon) + \"_\" + bias_string  + \"_\" + str(lambda0) + \"_\" + str(lambda1) + \".bash\"\n",
    "\n",
    "string_for_title = \"#SBATCH --job-name=nn_gpu_\" + str(N1) + \"_\" + str(P) + \"_\" + str(Ptest) + \"_\" + str(T) + \"_\" + str(epsilon) + \"_\" + bias_string  + \"_\" + str(lambda0) + \"_\" + str(lambda1) + \" \\n\\n\"\n",
    "\n",
    "with open(string, 'w') as f:\n",
    "\tf.write('%s' % \"#!/bin/bash \\n\\n\")\n",
    "\tf.write('%s' % \"#SBATCH --partition=gpu \\n\")\n",
    "\tf.write('%s' % \"#SBATCH --qos=gpu \\n\")\n",
    "\tf.write('%s' % \"#SBATCH --gres=gpu:a100_80g:1 \\n\")\n",
    "\tf.write('%s' % \"#SBATCH --mem=60G \\n\")\n",
    "\tf.write('%s' % \"#SBATCH --time=0-24:00:00 \\n\")\n",
    "\tf.write('%s' % \"#SBATCH --output=./report/%x.o%j \\n\")\n",
    "\tf.write('%s' % \"#SBATCH --mail-type=BEGIN,END \\n\")\n",
    "\tf.write('%s' % \"#SBATCH --mail-user=paolo.baglioni@unipr.it \\n\\n\")\n",
    "\n",
    "\tf.write('%s' % string_for_title)\n",
    "\n",
    "\n",
    "\tf.write('%s' % \"module load gnu8/8.3.0 \\n\")\n",
    "\tf.write('%s' % \"module load python/3.9.10 \\n\")\n",
    "\tf.write('%s' % \"module load cuda/11.5.2 \\n\")\n",
    "\tf.write('%s' % \"module load cudnn/8.3.3 \\n\\n\")\n",
    "\n",
    "\tf.write('%s' % \"cd /hpc/home/paolo.baglioni/nn_ve \\n\")\n",
    "\tf.write('%s' % \"source bin/activate \\n\")\n",
    "\tf.write('%s' % \"cd /hpc/home/paolo.baglioni/pietro_all_lambda/ \\n\\n\")\n",
    "\n",
    "\tstring = \"python3 main.py \" + \"'/hpc/home/paolo.baglioni/try_finite_size/data/\" + \"mnist_\" + str(N1) + \"_\" + str(P) + \"_\" + str(Ptest) + \"_\" + str(T) + \"_\" + str(epsilon) + \"_\" + bias_string + \"_\" + str(lambda0) + \"_\" + str(lambda1) + \"/parameter.json' > '/hpc/home/paolo.baglioni/try_finite_size/data/\" + \"mnist_\" + str(N1) + \"_\" + str(P) + \"_\" + str(Ptest) + \"_\" + str(T) + \"_\" + str(epsilon) + \"_\" + bias_string + \"_\" + str(lambda0) + \"_\" + str(lambda1) + \"/std_output.txt' \\n\\n\"\n",
    "\tf.write('%s' % string)"
   ]
  },
  {
   "cell_type": "code",
   "execution_count": null,
   "metadata": {},
   "outputs": [],
   "source": []
  }
 ],
 "metadata": {
  "kernelspec": {
   "display_name": "Python 3 (ipykernel)",
   "language": "python",
   "name": "python3"
  },
  "language_info": {
   "codemirror_mode": {
    "name": "ipython",
    "version": 3
   },
   "file_extension": ".py",
   "mimetype": "text/x-python",
   "name": "python",
   "nbconvert_exporter": "python",
   "pygments_lexer": "ipython3",
   "version": "3.9.12"
  }
 },
 "nbformat": 4,
 "nbformat_minor": 2
}
